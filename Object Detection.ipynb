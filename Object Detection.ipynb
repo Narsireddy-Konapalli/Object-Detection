{
 "cells": [
  {
   "cell_type": "code",
   "execution_count": 1,
   "id": "d5aa9b23-0526-441c-ae27-52b4e961a029",
   "metadata": {},
   "outputs": [],
   "source": [
    "import cv2\n",
    "import numpy as np\n",
    "import pandas as pd\n",
    "import seaborn as sns\n",
    "import matplotlib.pyplot as plt"
   ]
  },
  {
   "cell_type": "code",
   "execution_count": 2,
   "id": "c1f6bfa4-8d3b-43b1-ba40-8d0762fd30bc",
   "metadata": {},
   "outputs": [],
   "source": [
    "config_file='ssd_mobilenet_v3_large_coco_2020_01_14.pbtxt'\n",
    "frozen_model='frozen_inference_graph.pb'\n",
    "model=cv2.dnn_DetectionModel(config_file,frozen_model)"
   ]
  },
  {
   "cell_type": "code",
   "execution_count": 3,
   "id": "bb1d9587-8c7b-406f-a56d-351e64aef9c8",
   "metadata": {},
   "outputs": [
    {
     "data": {
      "text/plain": [
       "80"
      ]
     },
     "execution_count": 3,
     "metadata": {},
     "output_type": "execute_result"
    }
   ],
   "source": [
    "classlabels=[]\n",
    "with open('labels.txt','r') as f:\n",
    "  classlabels=f.read().splitlines()\n",
    "len(classlabels)"
   ]
  },
  {
   "cell_type": "code",
   "execution_count": 4,
   "id": "b2ad5aa2-03ff-4dcf-bf70-f2f46c0635c0",
   "metadata": {},
   "outputs": [
    {
     "data": {
      "text/plain": [
       "< cv2.dnn.Model 000001D926CA0DD0>"
      ]
     },
     "execution_count": 4,
     "metadata": {},
     "output_type": "execute_result"
    }
   ],
   "source": [
    "model.setInputSize(320,320)\n",
    "model.setInputScale(1.0/127.5)\n",
    "model.setInputMean((127.5,127,5,127.5))\n",
    "model.setInputSwapRB(True)"
   ]
  },
  {
   "cell_type": "code",
   "execution_count": 12,
   "id": "a138994f-71a9-4045-b0e5-c67b84639b78",
   "metadata": {},
   "outputs": [],
   "source": [
    "video_capture=cv2.VideoCapture(0)\n",
    "while True:\n",
    "    xx=0\n",
    "    _,frame=video_capture.read()\n",
    "    classindex,confidence,bbox=model.detect(frame,confThreshold=0.5)\n",
    "    cv2.putText(frame,'q-->Exit',(470,30),cv2.FONT_HERSHEY_SIMPLEX,1,(0,0,255),2)\n",
    "    if len(classindex)==0:\n",
    "        cv2.putText(frame,'No Object Found',(10,30),cv2.FONT_HERSHEY_SIMPLEX,1,(0,102,255),2)  \n",
    "    else:\n",
    "        xx=1\n",
    "        for classind,conf,boxes in zip(classindex.flatten(),confidence.flatten(),bbox):\n",
    "            if classind<=80:\n",
    "                cv2.rectangle(frame,boxes,(255,0,0),2)\n",
    "                cv2.putText(frame,classlabels[classind-1],(boxes[0]+10,boxes[1]+40),cv2.FONT_HERSHEY_SIMPLEX,1,(0,255,0),2)        \n",
    "    cv2.imshow('Object Detection',frame)\n",
    "    if cv2.waitKey(1) & 0xFF == ord('q'):\n",
    "        break\n",
    "video_capture.release()\n",
    "cv2.destroyAllWindows()"
   ]
  },
  {
   "cell_type": "code",
   "execution_count": null,
   "id": "e6aa2a4e-80bd-4242-8a0b-6464f419730d",
   "metadata": {},
   "outputs": [],
   "source": []
  },
  {
   "cell_type": "code",
   "execution_count": null,
   "id": "b5af75b0-6cd5-4ccc-8f0d-311df8c5ea2e",
   "metadata": {},
   "outputs": [],
   "source": []
  }
 ],
 "metadata": {
  "kernelspec": {
   "display_name": "Python 3 (ipykernel)",
   "language": "python",
   "name": "python3"
  },
  "language_info": {
   "codemirror_mode": {
    "name": "ipython",
    "version": 3
   },
   "file_extension": ".py",
   "mimetype": "text/x-python",
   "name": "python",
   "nbconvert_exporter": "python",
   "pygments_lexer": "ipython3",
   "version": "3.11.4"
  }
 },
 "nbformat": 4,
 "nbformat_minor": 5
}
